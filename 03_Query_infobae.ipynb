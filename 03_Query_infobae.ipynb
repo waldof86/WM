{
 "cells": [
  {
   "cell_type": "code",
   "execution_count": 37,
   "metadata": {},
   "outputs": [],
   "source": [
    "import requests\n",
    "import pandas as pd\n",
    "import json\n",
    "import re\n",
    "import datetime"
   ]
  },
  {
   "cell_type": "code",
   "execution_count": 2,
   "metadata": {},
   "outputs": [],
   "source": [
    "#url = 'https://api.queryly.com/v4/search.aspx?queryly_key=62d9c40063044c14&initialized=1&&query=milei&endindex=0&batchsize=10&callback=&extendeddatafields=creator,imageresizer,promo_image&timezoneoffset'\n",
    "#qry = requests.get(url).text\n",
    "#json_str_match = re.search(r'JSON\\.parse\\(\\'(.*?)\\'\\)', qry, re.DOTALL)\n",
    "#print(json_str_match)"
   ]
  },
  {
   "cell_type": "code",
   "execution_count": 32,
   "metadata": {},
   "outputs": [],
   "source": [
    "rangos = range(0,1050,30)\n",
    "resultados = []\n",
    "\n",
    "for endindex in rangos:\n",
    "    url = f\"https://api.queryly.com/v4/search.aspx?queryly_key=62d9c40063044c14&initialized={0}&&query=milei&endindex={endindex}&batchsize={30}&callback=&extendeddatafields=creator,imageresizer,promo_image&timezoneoffset\"\n",
    "    response = requests.get(url)\n",
    "    content = response.text\n",
    "    json_str_match = re.search(r'results \\= JSON\\.parse\\(\\'(.*?)\\'\\)', content, re.DOTALL)\n",
    "    if json_str_match:\n",
    "        json_str = json_str_match.group(1)\n",
    "        json_str = json_str.replace('\\\\\\\\','\\\\')\n",
    "        json_str = json_str.replace('\\\\\\'','')\n",
    "        resultados.append(json_str)\n",
    "    else:\n",
    "        data = \"No JSON found in the script.\"\n",
    "    "
   ]
  },
  {
   "cell_type": "code",
   "execution_count": 33,
   "metadata": {},
   "outputs": [],
   "source": [
    "fallos = []\n",
    "i = 0\n",
    "for resultado in resultados:\n",
    "    i += 1\n",
    "    try:\n",
    "        data = json.loads(resultado)\n",
    "    except:\n",
    "        fallos.append(i)"
   ]
  },
  {
   "cell_type": "code",
   "execution_count": 34,
   "metadata": {},
   "outputs": [],
   "source": [
    "df = [pd.DataFrame(data['items']) for resultado in resultados]\n",
    "dfs = pd.concat(df, ignore_index=True)\n"
   ]
  },
  {
   "cell_type": "code",
   "execution_count": 48,
   "metadata": {},
   "outputs": [],
   "source": [
    "noticias = pd.DataFrame({\n",
    "    'indice': dfs.index,\n",
    "    'titulo': dfs.title,\n",
    "    'fecha': pd.to_datetime(pd.to_numeric(dfs.pubdateunix), unit='s'),\n",
    "    'link': dfs.link,\n",
    "    'contenido': \"\",\n",
    "    'copete': dfs.description\n",
    "})"
   ]
  },
  {
   "cell_type": "code",
   "execution_count": 49,
   "metadata": {},
   "outputs": [],
   "source": [
    "noticias.to_excel('03_Infobae.xlsx')"
   ]
  }
 ],
 "metadata": {
  "kernelspec": {
   "display_name": "uni",
   "language": "python",
   "name": "python3"
  },
  "language_info": {
   "codemirror_mode": {
    "name": "ipython",
    "version": 3
   },
   "file_extension": ".py",
   "mimetype": "text/x-python",
   "name": "python",
   "nbconvert_exporter": "python",
   "pygments_lexer": "ipython3",
   "version": "3.10.13"
  }
 },
 "nbformat": 4,
 "nbformat_minor": 2
}
