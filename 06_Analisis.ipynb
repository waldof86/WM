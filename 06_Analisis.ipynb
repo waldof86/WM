{
 "cells": [
  {
   "cell_type": "code",
   "execution_count": 69,
   "metadata": {},
   "outputs": [],
   "source": [
    "import pandas as pd\n",
    "import json"
   ]
  },
  {
   "cell_type": "code",
   "execution_count": 70,
   "metadata": {},
   "outputs": [],
   "source": [
    "df = pd.read_excel('05_Sentimiento.xlsx')"
   ]
  },
  {
   "cell_type": "code",
   "execution_count": 71,
   "metadata": {},
   "outputs": [],
   "source": [
    "umbral_confianza = 0.5\n",
    "df['orac_totales'] = None\n",
    "df['orac_validas'] = None\n",
    "df['estrellas_totales'] = None\n",
    "df['estrellas_neto'] = None\n",
    "\n",
    "for index, row in df.iterrows():\n",
    "    evaluaciones = pd.DataFrame(json.loads(row.eval))\n",
    "    validas = evaluaciones[evaluaciones['puntaje']>=umbral_confianza]\n",
    "    #print(f\"Indice {index} tiene {orac_validas} oraciones validas que suman {estrellas_totales} estrellas para un resultado neto de {estrellas_neto}\")\n",
    "    df.at[index,'orac_totales'] = len(evaluaciones)\n",
    "    df.at[index,'orac_validas'] = len(validas)\n",
    "    if len(validas) > 0:\n",
    "        df.at[index,'estrellas_totales'] = sum(validas['estrellas'])\n",
    "        df.at[index,'estrellas_neto'] = sum(validas['estrellas'])-len(validas)*3    "
   ]
  },
  {
   "cell_type": "code",
   "execution_count": 72,
   "metadata": {},
   "outputs": [],
   "source": [
    "intervalos = [-10, -3, -1, 1, 3]\n",
    "labels = ['Inconcluso', 'Negativo', 'Neutro', 'Positivo']\n",
    "df['eval_final'] = None\n",
    "df['label_final'] = None\n",
    "\n",
    "for index, row in df.iterrows():\n",
    "    if row.orac_validas > 0:\n",
    "        df.at[index,'eval_final'] = (row.estrellas_neto) / row.orac_validas\n",
    "    else:\n",
    "        df.at[index,'eval_final'] = -10\n",
    "\n",
    "df['label_final'] = pd.cut(df['eval_final'], bins = intervalos, labels = labels, include_lowest = True, right = True)\n",
    "df['label_final'] = df['label_final'].astype('category')"
   ]
  },
  {
   "cell_type": "code",
   "execution_count": 73,
   "metadata": {},
   "outputs": [],
   "source": [
    "df.drop('Unnamed: 0.2', axis = 1, inplace=True)\n",
    "df.drop('Unnamed: 0.1', axis = 1, inplace=True)\n",
    "df.drop('Unnamed: 0', axis = 1, inplace=True)"
   ]
  },
  {
   "cell_type": "code",
   "execution_count": 74,
   "metadata": {},
   "outputs": [],
   "source": [
    "df.to_excel('06_Analisis.xlsx')"
   ]
  }
 ],
 "metadata": {
  "kernelspec": {
   "display_name": "uni",
   "language": "python",
   "name": "python3"
  },
  "language_info": {
   "codemirror_mode": {
    "name": "ipython",
    "version": 3
   },
   "file_extension": ".py",
   "mimetype": "text/x-python",
   "name": "python",
   "nbconvert_exporter": "python",
   "pygments_lexer": "ipython3",
   "version": "3.10.13"
  }
 },
 "nbformat": 4,
 "nbformat_minor": 2
}
