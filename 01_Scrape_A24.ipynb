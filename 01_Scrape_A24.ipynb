{
 "cells": [
  {
   "cell_type": "code",
   "execution_count": 11,
   "metadata": {},
   "outputs": [],
   "source": [
    "from selenium import webdriver\n",
    "from selenium.webdriver.common.keys import Keys\n",
    "from selenium.webdriver.common.by import By\n",
    "from selenium.webdriver.chrome.options import Options\n",
    "from bs4 import BeautifulSoup\n",
    "import pandas as pd\n",
    "import datetime"
   ]
  },
  {
   "cell_type": "code",
   "execution_count": 12,
   "metadata": {},
   "outputs": [],
   "source": [
    "Options = Options()\n",
    "Options.add_argument('--headless')\n",
    "driver = webdriver.Chrome(options=Options)"
   ]
  },
  {
   "cell_type": "code",
   "execution_count": 13,
   "metadata": {},
   "outputs": [],
   "source": [
    "url_base = f\"https://a24.com\""
   ]
  },
  {
   "cell_type": "code",
   "execution_count": 14,
   "metadata": {},
   "outputs": [
    {
     "name": "stdout",
     "output_type": "stream",
     "text": [
      "11\r"
     ]
    }
   ],
   "source": [
    "soup = []\n",
    "limite_paginado = 12 #la pagina deja de devolver resultados luego de este limite\n",
    "for i in range(0,limite_paginado): \n",
    "    print(i, end='\\r')\n",
    "    driver.get(f\"{url_base}/contenidos/resultado.html?search=milei#gsc.q=milei&gsc.page={i}\")\n",
    "    pag =  driver.page_source\n",
    "    soup.append(BeautifulSoup(pag, 'html5lib'))"
   ]
  },
  {
   "cell_type": "code",
   "execution_count": 15,
   "metadata": {},
   "outputs": [],
   "source": [
    "paginas = []\n",
    "for i in range(0,limite_paginado): \n",
    "    paginas.append(soup[i].find_all('div', class_='gsc-webResult gsc-result'))"
   ]
  },
  {
   "cell_type": "code",
   "execution_count": 16,
   "metadata": {},
   "outputs": [
    {
     "name": "stdout",
     "output_type": "stream",
     "text": [
      "Procesado articulo 119\r"
     ]
    }
   ],
   "source": [
    "noticias = pd.DataFrame(columns=['indice','titulo','fecha','link','source','contenido','copete'])\n",
    "\n",
    "i = -1\n",
    "for pagina in paginas:\n",
    "    for noticia in pagina:\n",
    "        i = i + 1\n",
    "        noticias.loc[i,'indice'] = i\n",
    "        #noticias.loc[i,'titulo'] = (noticia.get_text())\n",
    "        noticias.loc[i,'link'] = f\"{noticia.find('a')['href']}\"\n",
    "        print(f'Procesado articulo {i}', end='\\r')\n",
    "        #print(f\"Articulo: {i} Titulo: \\n{titulo}\\nLink:\\n{link}\\n-------------------------------------------------------------------------\\n\")\n"
   ]
  },
  {
   "cell_type": "code",
   "execution_count": 17,
   "metadata": {},
   "outputs": [
    {
     "name": "stdout",
     "output_type": "stream",
     "text": [
      "Articulo 119 - https://www.a24.com/politica/que-significa-no-la-ven-el-lenguaje-libertario-javier-milei-n1298863-proxima-administracion-la-respuesta-del-gobierno-n12175885971\r"
     ]
    }
   ],
   "source": [
    "for index, row in noticias.iterrows():\n",
    "    print(f\"Articulo {row.indice} - {row.link}\", end='\\r')\n",
    "    driver.get(row.link)\n",
    "    pag =  driver.page_source\n",
    "    row.source = BeautifulSoup(pag, 'html5lib')"
   ]
  },
  {
   "cell_type": "code",
   "execution_count": 18,
   "metadata": {},
   "outputs": [],
   "source": [
    "noticias = noticias[~noticias['link'].str.contains('tags')]\n",
    "\n",
    "for index, row in noticias.iterrows():\n",
    "    #print(f\"Articulo {row.indice} - {row.link}\")\n",
    "    contenido_source = row.source.find_all('div', class_=lambda x: x and (x.startswith('article-content')))#, class_='article-body')\n",
    "    row.contenido = ''\n",
    "    for a in contenido_source:\n",
    "        row.contenido += a.find('p').get_text() + '\\n'\n",
    "    \n",
    "    header_source = row.source.find('section', class_='news-body-hero')\n",
    "    row.titulo = header_source.find('h1',class_ = 'news-hero-title').get_text()\n",
    "    row.fecha = header_source.find('div',class_ = 'news-hero-author-name').get_text()\n",
    "    row.copete = header_source.find('div',class_ = 'news-hero-description').get_text()"
   ]
  },
  {
   "cell_type": "code",
   "execution_count": 19,
   "metadata": {},
   "outputs": [],
   "source": [
    "noticias.drop('source', axis = 1, inplace=True)\n",
    "noticias.to_excel('01_A24.xlsx')"
   ]
  },
  {
   "cell_type": "code",
   "execution_count": 20,
   "metadata": {},
   "outputs": [],
   "source": [
    "driver.close()"
   ]
  }
 ],
 "metadata": {
  "kernelspec": {
   "display_name": "uni",
   "language": "python",
   "name": "python3"
  },
  "language_info": {
   "codemirror_mode": {
    "name": "ipython",
    "version": 3
   },
   "file_extension": ".py",
   "mimetype": "text/x-python",
   "name": "python",
   "nbconvert_exporter": "python",
   "pygments_lexer": "ipython3",
   "version": "3.10.13"
  }
 },
 "nbformat": 4,
 "nbformat_minor": 2
}
