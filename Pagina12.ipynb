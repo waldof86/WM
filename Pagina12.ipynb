{
 "cells": [
  {
   "cell_type": "code",
   "execution_count": 2,
   "metadata": {},
   "outputs": [],
   "source": [
    "from selenium import webdriver\n",
    "from selenium.webdriver.common.keys import Keys\n",
    "from selenium.webdriver.common.by import By\n",
    "from selenium.webdriver.chrome.options import Options\n",
    "from bs4 import BeautifulSoup\n",
    "import pandas as pd\n",
    "import datetime"
   ]
  },
  {
   "cell_type": "code",
   "execution_count": 3,
   "metadata": {},
   "outputs": [],
   "source": [
    "Options = Options()\n",
    "Options.add_argument('--headless')\n",
    "driver = webdriver.Chrome(options=Options)"
   ]
  },
  {
   "cell_type": "code",
   "execution_count": 4,
   "metadata": {},
   "outputs": [],
   "source": [
    "url_base = f\"https://www.pagina12.com.ar\""
   ]
  },
  {
   "cell_type": "code",
   "execution_count": 5,
   "metadata": {},
   "outputs": [
    {
     "name": "stdout",
     "output_type": "stream",
     "text": [
      "1\r"
     ]
    }
   ],
   "source": [
    "soup = []\n",
    "for i in range(0,2):\n",
    "    print(i, end='\\r')\n",
    "    driver.get(f\"{url_base}/buscar?q=milei&page={i}\")\n",
    "    pag =  driver.page_source\n",
    "    soup.append(BeautifulSoup(pag, 'html5lib'))"
   ]
  },
  {
   "cell_type": "code",
   "execution_count": 6,
   "metadata": {},
   "outputs": [],
   "source": [
    "paginas = []\n",
    "for i in range(0,2):\n",
    "    paginas.append(soup[i].find_all('div', class_='article-item__content'))"
   ]
  },
  {
   "cell_type": "code",
   "execution_count": 7,
   "metadata": {},
   "outputs": [
    {
     "name": "stdout",
     "output_type": "stream",
     "text": [
      "Procesado articulo 29\r"
     ]
    }
   ],
   "source": [
    "noticias = pd.DataFrame(columns=['indice','titulo','fecha','link','source','contenido','copete'])\n",
    "\n",
    "i = -1\n",
    "for pagina in paginas:\n",
    "    for noticia in pagina:\n",
    "        i = i + 1\n",
    "        noticias.loc[i,'indice'] = i\n",
    "        noticias.loc[i,'titulo'] = (noticia.get_text())\n",
    "        noticias.loc[i,'link'] = f\"{url_base}{noticia.find('a')['href']}\"\n",
    "        print(f'Procesado articulo {i}', end='\\r')\n",
    "        #print(f\"Articulo: {i} Titulo: \\n{titulo}\\nLink:\\n{link}\\n-------------------------------------------------------------------------\\n\")\n"
   ]
  },
  {
   "cell_type": "code",
   "execution_count": 8,
   "metadata": {},
   "outputs": [
    {
     "name": "stdout",
     "output_type": "stream",
     "text": [
      "Articulo 29 - https://www.pagina12.com.ar/724160-jubilados-cuanto-cobraran-en-abril-sin-formula-de-movilidad-\r"
     ]
    }
   ],
   "source": [
    "for index, row in noticias.iterrows():\n",
    "    print(f\"Articulo {row.indice} - {row.link}\", end='\\r')\n",
    "    driver.get(row.link)\n",
    "    pag =  driver.page_source\n",
    "    row.source = BeautifulSoup(pag, 'html5lib')"
   ]
  },
  {
   "cell_type": "code",
   "execution_count": 9,
   "metadata": {},
   "outputs": [],
   "source": [
    "for index, row in noticias.iterrows():\n",
    "    #print(f\"Articulo {row.indice} - {row.link}\")\n",
    "    contenido_source = row.source.find('div', class_='section-2-col article-main-content')\n",
    "    row.contenido = contenido_source.get_text()\n",
    "    copete_source = row.source.find('div', class_='section-2-col article-header')\n",
    "    row.copete = copete_source.get_text()\n",
    "    fecha_source = row.source.find('meta', property='article:modified_time')\n",
    "    fecha = int(fecha_source.get('content'))\n",
    "    fecha = datetime.datetime.fromtimestamp(fecha)\n",
    "    row.fecha = fecha"
   ]
  },
  {
   "cell_type": "code",
   "execution_count": 10,
   "metadata": {},
   "outputs": [],
   "source": [
    "noticias.to_excel('pagina12.xlsx')"
   ]
  },
  {
   "cell_type": "code",
   "execution_count": 11,
   "metadata": {},
   "outputs": [],
   "source": [
    "driver.close()"
   ]
  }
 ],
 "metadata": {
  "kernelspec": {
   "display_name": "uni",
   "language": "python",
   "name": "python3"
  },
  "language_info": {
   "codemirror_mode": {
    "name": "ipython",
    "version": 3
   },
   "file_extension": ".py",
   "mimetype": "text/x-python",
   "name": "python",
   "nbconvert_exporter": "python",
   "pygments_lexer": "ipython3",
   "version": "3.10.13"
  }
 },
 "nbformat": 4,
 "nbformat_minor": 2
}
