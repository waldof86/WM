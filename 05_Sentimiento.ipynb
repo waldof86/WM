{
 "cells": [
  {
   "cell_type": "code",
   "execution_count": 56,
   "metadata": {},
   "outputs": [],
   "source": [
    "import pandas as pd\n",
    "import json\n",
    "from transformers import pipeline"
   ]
  },
  {
   "cell_type": "code",
   "execution_count": 57,
   "metadata": {},
   "outputs": [],
   "source": [
    "df = pd.read_excel('04_Consolidado.xlsx')\n",
    "df['eval'] = None"
   ]
  },
  {
   "cell_type": "code",
   "execution_count": 58,
   "metadata": {},
   "outputs": [],
   "source": [
    "# Load a sentiment analysis pipeline\n",
    "classifier = pipeline('sentiment-analysis', model='nlptown/bert-base-multilingual-uncased-sentiment')\n",
    "\n",
    "# 1 star: Very negative sentiment.\n",
    "# 2 stars: Negative sentiment.\n",
    "# 3 stars: Neutral sentiment.\n",
    "# 4 stars: Positive sentiment.\n",
    "# 5 stars: Very positive sentiment."
   ]
  },
  {
   "cell_type": "code",
   "execution_count": 59,
   "metadata": {},
   "outputs": [
    {
     "name": "stdout",
     "output_type": "stream",
     "text": [
      "Wrote: 2\r"
     ]
    }
   ],
   "source": [
    "for index, row in df.iterrows():\n",
    "    if row['eval'] is not None:\n",
    "        print(f'Skipped: {index}')\n",
    "        continue\n",
    "\n",
    "    oraciones = pd.DataFrame({'oracion' : json.loads(row['oraciones'])})\n",
    "    oraciones['etiqueta'] = None\n",
    "    oraciones['puntaje'] = None\n",
    "    oraciones['estrellas'] = None\n",
    "    \n",
    "    for ind, oracion in oraciones.iterrows():\n",
    "        result = classifier(oracion['oracion'])\n",
    "        oraciones.at[ind,'etiqueta'] = result[0]['label']\n",
    "        oraciones.at[ind,'estrellas'] = int(result[0]['label'][0])\n",
    "        oraciones.at[ind,'puntaje'] = float(result[0]['score'])\n",
    "\n",
    "    df.loc[index,'eval'] = oraciones.copy\n",
    "    print(f'Wrote: {index}', end='\\r')"
   ]
  },
  {
   "cell_type": "code",
   "execution_count": null,
   "metadata": {},
   "outputs": [],
   "source": [
    "df.to_excel('05_Sentimiento.xlsx')"
   ]
  },
  {
   "cell_type": "code",
   "execution_count": null,
   "metadata": {},
   "outputs": [],
   "source": []
  }
 ],
 "metadata": {
  "kernelspec": {
   "display_name": "uni",
   "language": "python",
   "name": "python3"
  },
  "language_info": {
   "codemirror_mode": {
    "name": "ipython",
    "version": 3
   },
   "file_extension": ".py",
   "mimetype": "text/x-python",
   "name": "python",
   "nbconvert_exporter": "python",
   "pygments_lexer": "ipython3",
   "version": "3.10.13"
  }
 },
 "nbformat": 4,
 "nbformat_minor": 2
}
