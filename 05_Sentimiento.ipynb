{
 "cells": [
  {
   "cell_type": "code",
   "execution_count": 1,
   "metadata": {},
   "outputs": [],
   "source": [
    "import pandas as pd\n",
    "import json\n",
    "from transformers import pipeline"
   ]
  },
  {
   "cell_type": "code",
   "execution_count": 2,
   "metadata": {},
   "outputs": [],
   "source": [
    "df = pd.read_excel('04_Consolidado_infobae.xlsx')\n",
    "df['eval'] = None"
   ]
  },
  {
   "cell_type": "code",
   "execution_count": 3,
   "metadata": {},
   "outputs": [
    {
     "name": "stderr",
     "output_type": "stream",
     "text": [
      "c:\\Users\\waldo\\miniforge3\\envs\\uni\\lib\\site-packages\\torch\\_utils.py:831: UserWarning: TypedStorage is deprecated. It will be removed in the future and UntypedStorage will be the only storage class. This should only matter to you if you are using storages directly.  To access UntypedStorage directly, use tensor.untyped_storage() instead of tensor.storage()\n",
      "  return self.fget.__get__(instance, owner)()\n"
     ]
    }
   ],
   "source": [
    "# Load a sentiment analysis pipeline\n",
    "classifier = pipeline('sentiment-analysis', model='nlptown/bert-base-multilingual-uncased-sentiment')\n",
    "\n",
    "# 1 star: Very negative sentiment.\n",
    "# 2 stars: Negative sentiment.\n",
    "# 3 stars: Neutral sentiment.\n",
    "# 4 stars: Positive sentiment.\n",
    "# 5 stars: Very positive sentiment."
   ]
  },
  {
   "cell_type": "code",
   "execution_count": null,
   "metadata": {},
   "outputs": [],
   "source": [
    "# for index, row in df.iterrows():\n",
    "#     if row['eval'] is not None:\n",
    "#         print(f'Skipped: {index}')\n",
    "#         continue\n",
    "\n",
    "#     try:\n",
    "#         oraciones = pd.DataFrame({'oracion' : json.loads(row['oraciones'])})\n",
    "#         oraciones['etiqueta'] = None\n",
    "#         oraciones['puntaje'] = None\n",
    "#         oraciones['estrellas'] = None\n",
    "#     except:\n",
    "#         continue\n",
    "    \n",
    "#     for ind, oracion in oraciones.iterrows():\n",
    "#         result = classifier(oracion['oracion'])\n",
    "#         oraciones.at[ind,'etiqueta'] = result[0]['label']\n",
    "#         oraciones.at[ind,'estrellas'] = int(result[0]['label'][0])\n",
    "#         oraciones.at[ind,'puntaje'] = float(result[0]['score'])\n",
    "\n",
    "#     df.loc[index,'eval'] = oraciones.to_json()\n",
    "#     print(f'Wrote: {index}', end='\\r')"
   ]
  },
  {
   "cell_type": "code",
   "execution_count": 4,
   "metadata": {},
   "outputs": [],
   "source": [
    "from concurrent.futures import ThreadPoolExecutor"
   ]
  },
  {
   "cell_type": "code",
   "execution_count": 5,
   "metadata": {},
   "outputs": [],
   "source": [
    "def process_row(index, row):\n",
    "    if row['eval'] is not None:\n",
    "        print(f'Skipped: {index}')\n",
    "        return\n",
    "\n",
    "    try:\n",
    "        oraciones = pd.DataFrame({'oracion' : json.loads(row['oraciones'])})\n",
    "        oraciones['etiqueta'] = None\n",
    "        oraciones['puntaje'] = None\n",
    "        oraciones['estrellas'] = None\n",
    "    except:\n",
    "        return\n",
    "    \n",
    "    for ind, oracion in oraciones.iterrows():\n",
    "        result = classifier(oracion['oracion'])\n",
    "        oraciones.at[ind,'etiqueta'] = result[0]['label']\n",
    "        oraciones.at[ind,'estrellas'] = int(result[0]['label'][0])\n",
    "        oraciones.at[ind,'puntaje'] = float(result[0]['score'])\n",
    "\n",
    "    df.loc[index,'eval'] = oraciones.to_json()\n",
    "    print(f'Wrote: {index}', end='\\r')"
   ]
  },
  {
   "cell_type": "code",
   "execution_count": null,
   "metadata": {},
   "outputs": [],
   "source": [
    "with ThreadPoolExecutor(max_workers=12) as executor:\n",
    "    futures = [executor.submit(process_row, index, row) for index, row in df.iterrows()]\n",
    "    for future in futures:\n",
    "        future.result()"
   ]
  },
  {
   "cell_type": "code",
   "execution_count": 7,
   "metadata": {},
   "outputs": [],
   "source": [
    "df.to_excel('05_Sentimiento.xlsx')"
   ]
  }
 ],
 "metadata": {
  "kernelspec": {
   "display_name": "uni",
   "language": "python",
   "name": "python3"
  },
  "language_info": {
   "codemirror_mode": {
    "name": "ipython",
    "version": 3
   },
   "file_extension": ".py",
   "mimetype": "text/x-python",
   "name": "python",
   "nbconvert_exporter": "python",
   "pygments_lexer": "ipython3",
   "version": "3.10.13"
  }
 },
 "nbformat": 4,
 "nbformat_minor": 2
}
