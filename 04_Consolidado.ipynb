{
 "cells": [
  {
   "cell_type": "code",
   "execution_count": 2,
   "metadata": {},
   "outputs": [],
   "source": [
    "# NLP\n",
    "import spacy\n",
    "\n",
    "#other imports\n",
    "import json\n",
    "import pandas as pd"
   ]
  },
  {
   "cell_type": "code",
   "execution_count": 3,
   "metadata": {},
   "outputs": [],
   "source": [
    "df2 = pd.read_excel(\"02_pagina12_parte1.xlsx\")\n",
    "df2['Diario'] = 'Pagina12'\n",
    "df4 = pd.read_excel(\"02_pagina12_parte2.xlsx\")\n",
    "df4['Diario'] = 'Pagina12'\n",
    "df3 = pd.read_excel(\"03_Infobae.xlsx\")\n",
    "df3['Diario'] = 'Infobae'"
   ]
  },
  {
   "cell_type": "code",
   "execution_count": 4,
   "metadata": {},
   "outputs": [],
   "source": [
    "df = pd.concat([df2,df3,df4])\n",
    "#df = df3\n",
    "df['oraciones'] = None"
   ]
  },
  {
   "cell_type": "code",
   "execution_count": 5,
   "metadata": {},
   "outputs": [],
   "source": [
    "nlp = spacy.load(\"es_core_news_lg\") #es_core_news_lg modelo large, el transformer es es_dep_news_trf\n",
    "def separate_sentences(text):\n",
    "    doc = nlp(text)\n",
    "    sentences = [sent.text for sent in doc.sents]\n",
    "    return sentences"
   ]
  },
  {
   "cell_type": "code",
   "execution_count": 8,
   "metadata": {},
   "outputs": [
    {
     "name": "stdout",
     "output_type": "stream",
     "text": [
      "failed 140\n",
      "failed 340Indice 339 de 3540\n",
      "failed 480Indice 479 de 3540\n",
      "failed 521Indice 520 de 3540\n",
      "failed 591Indice 590 de 3540\n",
      "failed 637Indice 636 de 3540\n",
      "failed 707Indice 706 de 3540\n",
      "failed 1081ndice 1080 de 3540\n",
      "failed 1140ndice 1139 de 3540\n",
      "failed 1399ndice 1398 de 3540\n",
      "failed 1610ndice 1609 de 3540\n",
      "failed 1810ndice 1809 de 3540\n",
      "failed 1950ndice 1949 de 3540\n",
      "failed 1991ndice 1990 de 3540\n",
      "failed 2061ndice 2060 de 3540\n",
      "failed 2107ndice 2106 de 3540\n",
      "failed 2177ndice 2176 de 3540\n",
      "failed 2551ndice 2550 de 3540\n",
      "failed 2610ndice 2609 de 3540\n",
      "failed 2869ndice 2868 de 3540\n",
      "failed 2946ndice 2945 de 3540\n",
      "failed 2989ndice 2988 de 3540\n",
      "failed 3004ndice 3003 de 3540\n",
      "failed 3129ndice 3128 de 3540\n",
      "failed 3135ndice 3134 de 3540\n",
      "failed 3143ndice 3142 de 3540\n",
      "failed 3177ndice 3176 de 3540\n",
      "failed 3189ndice 3188 de 3540\n",
      "failed 3195ndice 3194 de 3540\n",
      "failed 3232ndice 3231 de 3540\n",
      "failed 3243ndice 3242 de 3540\n",
      "failed 3246ndice 3245 de 3540\n",
      "failed 3255ndice 3254 de 3540\n",
      "failed 3258ndice 3257 de 3540\n",
      "failed 3295ndice 3294 de 3540\n",
      "failed 3316ndice 3315 de 3540\n",
      "failed 3319ndice 3318 de 3540\n",
      "failed 3337ndice 3336 de 3540\n",
      "failed 3371ndice 3370 de 3540\n",
      "failed 3496ndice 3495 de 3540\n",
      "failed 3520ndice 3519 de 3540\n",
      "Procesado Indice 3539 de 3540\r"
     ]
    }
   ],
   "source": [
    "for index, row in df.iterrows():\n",
    "    try:\n",
    "        if row.oraciones is None:\n",
    "            oracion = []\n",
    "            oracion = separate_sentences(row.titulo)\n",
    "            oracion.extend(separate_sentences(row.copete))\n",
    "            oracion.extend(separate_sentences(row.contenido))\n",
    "            oracion = json.dumps(oracion)\n",
    "            df.at[index, 'oraciones'] = oracion\n",
    "            print(f'Procesado Indice {index} de {len(df)}', end='\\r')\n",
    "    except:\n",
    "        print(f'failed {index}')"
   ]
  },
  {
   "cell_type": "code",
   "execution_count": 9,
   "metadata": {},
   "outputs": [],
   "source": [
    "df.drop_duplicates(subset=['link'], inplace=True)"
   ]
  },
  {
   "cell_type": "code",
   "execution_count": 10,
   "metadata": {},
   "outputs": [],
   "source": [
    "df.to_excel('04_Consolidado.xlsx')"
   ]
  },
  {
   "cell_type": "code",
   "execution_count": null,
   "metadata": {},
   "outputs": [],
   "source": []
  },
  {
   "cell_type": "code",
   "execution_count": null,
   "metadata": {},
   "outputs": [],
   "source": []
  }
 ],
 "metadata": {
  "kernelspec": {
   "display_name": "uni",
   "language": "python",
   "name": "python3"
  },
  "language_info": {
   "codemirror_mode": {
    "name": "ipython",
    "version": 3
   },
   "file_extension": ".py",
   "mimetype": "text/x-python",
   "name": "python",
   "nbconvert_exporter": "python",
   "pygments_lexer": "ipython3",
   "version": "3.10.13"
  }
 },
 "nbformat": 4,
 "nbformat_minor": 2
}
