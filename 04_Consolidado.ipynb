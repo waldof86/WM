{
 "cells": [
  {
   "cell_type": "code",
   "execution_count": 56,
   "metadata": {},
   "outputs": [],
   "source": [
    "# NLP\n",
    "import spacy\n",
    "\n",
    "#other imports\n",
    "import json\n",
    "import pandas as pd"
   ]
  },
  {
   "cell_type": "code",
   "execution_count": 57,
   "metadata": {},
   "outputs": [],
   "source": [
    "df2 = pd.read_excel(\"02_pagina12.xlsx\")\n",
    "df2['Diario'] = 'Pagina12'\n",
    "df3 = pd.read_excel(\"03_Infobae.xlsx\")\n",
    "df3['Diario'] = 'Infobae'"
   ]
  },
  {
   "cell_type": "code",
   "execution_count": 58,
   "metadata": {},
   "outputs": [],
   "source": [
    "df = pd.concat([df2,df3])\n",
    "df['oraciones'] = None"
   ]
  },
  {
   "cell_type": "code",
   "execution_count": 59,
   "metadata": {},
   "outputs": [],
   "source": [
    "nlp = spacy.load(\"es_core_news_lg\") #es_core_news_lg modelo large, el transformer es es_dep_news_trf\n",
    "def separate_sentences(text):\n",
    "    doc = nlp(text)\n",
    "    sentences = [sent.text for sent in doc.sents]\n",
    "    return sentences"
   ]
  },
  {
   "cell_type": "code",
   "execution_count": 60,
   "metadata": {},
   "outputs": [
    {
     "name": "stdout",
     "output_type": "stream",
     "text": [
      "Procesado Indice 1049 de 2055\r"
     ]
    }
   ],
   "source": [
    "for index, row in df.iterrows():\n",
    "    #try:\n",
    "    if row.oraciones is None:\n",
    "        oracion = []\n",
    "        oracion = separate_sentences(row.titulo)\n",
    "        oracion.extend(separate_sentences(row.copete))\n",
    "        oracion.extend(separate_sentences(row.contenido))\n",
    "        oracion = json.dumps(oracion)\n",
    "        df.at[index, 'oraciones'] = oracion\n",
    "        print(f'Procesado Indice {index} de {len(df)}', end='\\r')\n",
    "    #except:\n",
    "        #continue"
   ]
  },
  {
   "cell_type": "code",
   "execution_count": 61,
   "metadata": {},
   "outputs": [],
   "source": [
    "df.to_excel('04_Consolidado.xlsx')"
   ]
  },
  {
   "cell_type": "code",
   "execution_count": null,
   "metadata": {},
   "outputs": [],
   "source": []
  },
  {
   "cell_type": "code",
   "execution_count": null,
   "metadata": {},
   "outputs": [],
   "source": []
  }
 ],
 "metadata": {
  "kernelspec": {
   "display_name": "uni",
   "language": "python",
   "name": "python3"
  },
  "language_info": {
   "codemirror_mode": {
    "name": "ipython",
    "version": 3
   },
   "file_extension": ".py",
   "mimetype": "text/x-python",
   "name": "python",
   "nbconvert_exporter": "python",
   "pygments_lexer": "ipython3",
   "version": "3.10.13"
  }
 },
 "nbformat": 4,
 "nbformat_minor": 2
}
